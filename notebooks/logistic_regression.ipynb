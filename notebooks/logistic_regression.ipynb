{
 "cells": [
  {
   "cell_type": "markdown",
   "id": "4f0e467b",
   "metadata": {},
   "source": [
    "# Logistic Regression (Classifier)"
   ]
  },
  {
   "cell_type": "code",
   "execution_count": 115,
   "id": "a84c7167",
   "metadata": {},
   "outputs": [],
   "source": [
    "import numpy as np\n",
    "import pandas as pd\n",
    "import matplotlib.pyplot as plt\n",
    "import seaborn as sns"
   ]
  },
  {
   "cell_type": "code",
   "execution_count": 116,
   "id": "961c69a0",
   "metadata": {},
   "outputs": [],
   "source": [
    "import warnings\n",
    "warnings.filterwarnings(\"ignore\")"
   ]
  },
  {
   "cell_type": "code",
   "execution_count": 117,
   "id": "08c265a6",
   "metadata": {},
   "outputs": [],
   "source": [
    "import sys\n",
    "import os\n",
    "sys.path.append(os.path.abspath(os.path.join(os.getcwd(), \"..\")))"
   ]
  },
  {
   "cell_type": "code",
   "execution_count": 118,
   "id": "5ae63d83",
   "metadata": {},
   "outputs": [
    {
     "data": {
      "text/html": [
       "<div>\n",
       "<style scoped>\n",
       "    .dataframe tbody tr th:only-of-type {\n",
       "        vertical-align: middle;\n",
       "    }\n",
       "\n",
       "    .dataframe tbody tr th {\n",
       "        vertical-align: top;\n",
       "    }\n",
       "\n",
       "    .dataframe thead th {\n",
       "        text-align: right;\n",
       "    }\n",
       "</style>\n",
       "<table border=\"1\" class=\"dataframe\">\n",
       "  <thead>\n",
       "    <tr style=\"text-align: right;\">\n",
       "      <th></th>\n",
       "      <th>category</th>\n",
       "      <th>rating</th>\n",
       "      <th>label</th>\n",
       "      <th>text_</th>\n",
       "      <th>encoded_label</th>\n",
       "      <th>clean_text</th>\n",
       "    </tr>\n",
       "  </thead>\n",
       "  <tbody>\n",
       "    <tr>\n",
       "      <th>0</th>\n",
       "      <td>Home_and_Kitchen_5</td>\n",
       "      <td>5.0</td>\n",
       "      <td>CG</td>\n",
       "      <td>Love this!  Well made, sturdy, and very comfor...</td>\n",
       "      <td>1</td>\n",
       "      <td>love well made sturdy comfortable love itvery ...</td>\n",
       "    </tr>\n",
       "    <tr>\n",
       "      <th>1</th>\n",
       "      <td>Home_and_Kitchen_5</td>\n",
       "      <td>5.0</td>\n",
       "      <td>CG</td>\n",
       "      <td>love it, a great upgrade from the original.  I...</td>\n",
       "      <td>1</td>\n",
       "      <td>love great upgrade original ive mine couple years</td>\n",
       "    </tr>\n",
       "    <tr>\n",
       "      <th>2</th>\n",
       "      <td>Home_and_Kitchen_5</td>\n",
       "      <td>5.0</td>\n",
       "      <td>CG</td>\n",
       "      <td>This pillow saved my back. I love the look and...</td>\n",
       "      <td>1</td>\n",
       "      <td>pillow saved back love look feel pillow</td>\n",
       "    </tr>\n",
       "    <tr>\n",
       "      <th>3</th>\n",
       "      <td>Home_and_Kitchen_5</td>\n",
       "      <td>1.0</td>\n",
       "      <td>CG</td>\n",
       "      <td>Missing information on how to use it, but it i...</td>\n",
       "      <td>1</td>\n",
       "      <td>missing information use great product price</td>\n",
       "    </tr>\n",
       "    <tr>\n",
       "      <th>4</th>\n",
       "      <td>Home_and_Kitchen_5</td>\n",
       "      <td>5.0</td>\n",
       "      <td>CG</td>\n",
       "      <td>Very nice set. Good quality. We have had the s...</td>\n",
       "      <td>1</td>\n",
       "      <td>nice set good quality set two months</td>\n",
       "    </tr>\n",
       "    <tr>\n",
       "      <th>...</th>\n",
       "      <td>...</td>\n",
       "      <td>...</td>\n",
       "      <td>...</td>\n",
       "      <td>...</td>\n",
       "      <td>...</td>\n",
       "      <td>...</td>\n",
       "    </tr>\n",
       "    <tr>\n",
       "      <th>40427</th>\n",
       "      <td>Clothing_Shoes_and_Jewelry_5</td>\n",
       "      <td>4.0</td>\n",
       "      <td>OR</td>\n",
       "      <td>I had read some reviews saying that this bra r...</td>\n",
       "      <td>0</td>\n",
       "      <td>read reviews saying bra ran small ordered two ...</td>\n",
       "    </tr>\n",
       "    <tr>\n",
       "      <th>40428</th>\n",
       "      <td>Clothing_Shoes_and_Jewelry_5</td>\n",
       "      <td>5.0</td>\n",
       "      <td>CG</td>\n",
       "      <td>I wasn't sure exactly what it would be. It is ...</td>\n",
       "      <td>1</td>\n",
       "      <td>wasnt sure exactly would little large small si...</td>\n",
       "    </tr>\n",
       "    <tr>\n",
       "      <th>40429</th>\n",
       "      <td>Clothing_Shoes_and_Jewelry_5</td>\n",
       "      <td>2.0</td>\n",
       "      <td>OR</td>\n",
       "      <td>You can wear the hood by itself, wear it with ...</td>\n",
       "      <td>0</td>\n",
       "      <td>wear hood wear hood wear jacket without hood s...</td>\n",
       "    </tr>\n",
       "    <tr>\n",
       "      <th>40430</th>\n",
       "      <td>Clothing_Shoes_and_Jewelry_5</td>\n",
       "      <td>1.0</td>\n",
       "      <td>CG</td>\n",
       "      <td>I liked nothing about this dress. The only rea...</td>\n",
       "      <td>1</td>\n",
       "      <td>liked nothing dress reason gave stars ordered ...</td>\n",
       "    </tr>\n",
       "    <tr>\n",
       "      <th>40431</th>\n",
       "      <td>Clothing_Shoes_and_Jewelry_5</td>\n",
       "      <td>5.0</td>\n",
       "      <td>OR</td>\n",
       "      <td>I work in the wedding industry and have to wor...</td>\n",
       "      <td>0</td>\n",
       "      <td>work wedding industry work long days feet outs...</td>\n",
       "    </tr>\n",
       "  </tbody>\n",
       "</table>\n",
       "<p>40432 rows × 6 columns</p>\n",
       "</div>"
      ],
      "text/plain": [
       "                           category  rating label  \\\n",
       "0                Home_and_Kitchen_5     5.0    CG   \n",
       "1                Home_and_Kitchen_5     5.0    CG   \n",
       "2                Home_and_Kitchen_5     5.0    CG   \n",
       "3                Home_and_Kitchen_5     1.0    CG   \n",
       "4                Home_and_Kitchen_5     5.0    CG   \n",
       "...                             ...     ...   ...   \n",
       "40427  Clothing_Shoes_and_Jewelry_5     4.0    OR   \n",
       "40428  Clothing_Shoes_and_Jewelry_5     5.0    CG   \n",
       "40429  Clothing_Shoes_and_Jewelry_5     2.0    OR   \n",
       "40430  Clothing_Shoes_and_Jewelry_5     1.0    CG   \n",
       "40431  Clothing_Shoes_and_Jewelry_5     5.0    OR   \n",
       "\n",
       "                                                   text_  encoded_label  \\\n",
       "0      Love this!  Well made, sturdy, and very comfor...              1   \n",
       "1      love it, a great upgrade from the original.  I...              1   \n",
       "2      This pillow saved my back. I love the look and...              1   \n",
       "3      Missing information on how to use it, but it i...              1   \n",
       "4      Very nice set. Good quality. We have had the s...              1   \n",
       "...                                                  ...            ...   \n",
       "40427  I had read some reviews saying that this bra r...              0   \n",
       "40428  I wasn't sure exactly what it would be. It is ...              1   \n",
       "40429  You can wear the hood by itself, wear it with ...              0   \n",
       "40430  I liked nothing about this dress. The only rea...              1   \n",
       "40431  I work in the wedding industry and have to wor...              0   \n",
       "\n",
       "                                              clean_text  \n",
       "0      love well made sturdy comfortable love itvery ...  \n",
       "1      love great upgrade original ive mine couple years  \n",
       "2                pillow saved back love look feel pillow  \n",
       "3            missing information use great product price  \n",
       "4                   nice set good quality set two months  \n",
       "...                                                  ...  \n",
       "40427  read reviews saying bra ran small ordered two ...  \n",
       "40428  wasnt sure exactly would little large small si...  \n",
       "40429  wear hood wear hood wear jacket without hood s...  \n",
       "40430  liked nothing dress reason gave stars ordered ...  \n",
       "40431  work wedding industry work long days feet outs...  \n",
       "\n",
       "[40432 rows x 6 columns]"
      ]
     },
     "execution_count": 118,
     "metadata": {},
     "output_type": "execute_result"
    }
   ],
   "source": [
    "# 1. import dataset\n",
    "df = pd.read_csv(\"../data/cleaned_reviews.csv\")\n",
    "df"
   ]
  },
  {
   "cell_type": "code",
   "execution_count": 119,
   "id": "92e6ae9f",
   "metadata": {},
   "outputs": [],
   "source": [
    "df['clean_text'] = df['clean_text'].fillna(\"\")"
   ]
  },
  {
   "cell_type": "code",
   "execution_count": 120,
   "id": "f8a333ac",
   "metadata": {},
   "outputs": [],
   "source": [
    "# 2. Preprocessing\n",
    "\n",
    "# Vectorizer\n",
    "from sklearn.feature_extraction.text import TfidfVectorizer\n",
    "\n",
    "vectorizer = TfidfVectorizer(max_features=5000)\n",
    "X = vectorizer.fit_transform(df['clean_text'])\n",
    "y = df[\"encoded_label\"]"
   ]
  },
  {
   "cell_type": "code",
   "execution_count": 121,
   "id": "42a07eca",
   "metadata": {},
   "outputs": [],
   "source": [
    "# 3. train test spilt\n",
    "from sklearn.model_selection import train_test_split\n",
    "\n",
    "X_train, X_test, y_train, y_test = train_test_split(X, y, test_size=0.2, stratify=y, random_state=42)"
   ]
  },
  {
   "cell_type": "code",
   "execution_count": 122,
   "id": "1de55e29",
   "metadata": {},
   "outputs": [
    {
     "name": "stdout",
     "output_type": "stream",
     "text": [
      "- Accuracy: 0.8839\n",
      "- classification report: \n",
      "               precision    recall  f1-score   support\n",
      "\n",
      "           0       0.88      0.89      0.88      4044\n",
      "           1       0.89      0.88      0.88      4043\n",
      "\n",
      "    accuracy                           0.88      8087\n",
      "   macro avg       0.88      0.88      0.88      8087\n",
      "weighted avg       0.88      0.88      0.88      8087\n",
      "\n"
     ]
    }
   ],
   "source": [
    "# 4. train model -> predict -> performance metrics\n",
    "from sklearn.linear_model import LogisticRegression\n",
    "from sklearn.metrics import confusion_matrix, accuracy_score, precision_score, recall_score, f1_score, classification_report\n",
    "\n",
    "# a) train model\n",
    "model = LogisticRegression(max_iter=1000)\n",
    "model.fit(X_train, y_train)\n",
    "\n",
    "# b) predict\n",
    "y_pred = model.predict(X_test)\n",
    "\n",
    "# c) performance metrics\n",
    "print(\"- Accuracy: {:.4f}\".format(accuracy_score(y_test, y_pred)))\n",
    "# print(\"- F1 score: {:.4f}\".format(f1_score(y_test, y_pred)))\n",
    "# print(\"- Precision: {:.4f}\".format(precision_score(y_test, y_pred)))\n",
    "# print(\"- Recall: {:.4f}\".format(recall_score(y_test, y_pred)))\n",
    "print(\"- classification report: \\n\", classification_report(y_test, y_pred))"
   ]
  },
  {
   "cell_type": "code",
   "execution_count": 123,
   "id": "16352900",
   "metadata": {},
   "outputs": [
    {
     "name": "stdout",
     "output_type": "stream",
     "text": [
      "Fitting 5 folds for each of 40 candidates, totalling 200 fits\n",
      "{'C': 10, 'max_iter': 100, 'penalty': 'l2', 'solver': 'liblinear'}\n"
     ]
    }
   ],
   "source": [
    "# 5. hyperparameter tunning and cross-validation\n",
    "from sklearn.model_selection import  GridSearchCV\n",
    "\n",
    "param_grid = {\n",
    "    'C': [0.01, 0.1, 1, 10, 100],           \n",
    "    'max_iter': [100, 500, 1000, 2000],\n",
    "    'penalty': ['l2'],                      \n",
    "    'solver': ['liblinear', 'lbfgs'],       \n",
    "}\n",
    "# c_values = [0.01, 0.1, 1, 10, 100]\n",
    "# param_grid = [\n",
    "#     {\n",
    "#         'penalty': ['l1'],\n",
    "#         'C': c_values,\n",
    "#         'solver': ['saga']\n",
    "#     },\n",
    "#     {\n",
    "#         'penalty': ['l2'],\n",
    "#         'C': c_values,\n",
    "#         'solver': ['newton-cg', 'liblinear', 'lbfgs', 'sag', 'saga']\n",
    "#     },\n",
    "#     {\n",
    "#         'penalty': ['elasticnet'],\n",
    "#         'C': c_values,\n",
    "#         'solver': ['saga'],\n",
    "#         'l1_ratio': [0.0, 0.5, 1.0]  # elasticnet requires l1_ratio\n",
    "#     }\n",
    "# ]\n",
    "\n",
    "grid = GridSearchCV(\n",
    "    estimator=LogisticRegression(max_iter=1000),\n",
    "    param_grid=param_grid,\n",
    "    cv=5,\n",
    "    verbose=3,\n",
    "    n_jobs=-1\n",
    ")\n",
    "grid.fit(X_train, y_train)\n",
    "\n",
    "print(grid.best_params_)"
   ]
  },
  {
   "cell_type": "code",
   "execution_count": 124,
   "id": "6ba34f6b",
   "metadata": {},
   "outputs": [
    {
     "name": "stdout",
     "output_type": "stream",
     "text": [
      "- Accuracy: 0.8852\n",
      "- classification report: \n",
      "               precision    recall  f1-score   support\n",
      "\n",
      "           0       0.89      0.88      0.88      4044\n",
      "           1       0.88      0.89      0.89      4043\n",
      "\n",
      "    accuracy                           0.89      8087\n",
      "   macro avg       0.89      0.89      0.89      8087\n",
      "weighted avg       0.89      0.89      0.89      8087\n",
      "\n"
     ]
    }
   ],
   "source": [
    "# 6. best model\n",
    "# train model -> predict -> performance metrics\n",
    "\n",
    "# a) train model\n",
    "model = LogisticRegression(C=10, max_iter=100, penalty='l2', solver='liblinear')\n",
    "model.fit(X_train, y_train)\n",
    "\n",
    "# b) predict\n",
    "y_pred = model.predict(X_test)\n",
    "\n",
    "# c) performance metrics\n",
    "print(\"- Accuracy: {:.4f}\".format(accuracy_score(y_test, y_pred)))\n",
    "# print(\"- F1 score: {:.4f}\".format(f1_score(y_test, y_pred)))\n",
    "# print(\"- Precision: {:.4f}\".format(precision_score(y_test, y_pred)))\n",
    "# print(\"- Recall: {:.4f}\".format(recall_score(y_test, y_pred)))\n",
    "print(\"- classification report: \\n\", classification_report(y_test, y_pred))"
   ]
  },
  {
   "cell_type": "code",
   "execution_count": 125,
   "id": "61a52063",
   "metadata": {},
   "outputs": [
    {
     "name": "stdout",
     "output_type": "stream",
     "text": [
      "cached\n"
     ]
    }
   ],
   "source": [
    "# 7. cache models\n",
    "import joblib\n",
    "\n",
    "joblib.dump(X_train, \"../model/X_train.pkl\")\n",
    "joblib.dump(X_test, \"../model/X_test.pkl\")\n",
    "joblib.dump(y_train, \"../model/y_train.pkl\")\n",
    "joblib.dump(y_test, \"../model/y_test.pkl\")\n",
    "joblib.dump(vectorizer, '../model/tfidf.pkl')\n",
    "joblib.dump(model, '../model/model.pkl')\n",
    "\n",
    "print(\"cached\")"
   ]
  }
 ],
 "metadata": {
  "kernelspec": {
   "display_name": "Python 3",
   "language": "python",
   "name": "python3"
  },
  "language_info": {
   "codemirror_mode": {
    "name": "ipython",
    "version": 3
   },
   "file_extension": ".py",
   "mimetype": "text/x-python",
   "name": "python",
   "nbconvert_exporter": "python",
   "pygments_lexer": "ipython3",
   "version": "3.10.0"
  }
 },
 "nbformat": 4,
 "nbformat_minor": 5
}
